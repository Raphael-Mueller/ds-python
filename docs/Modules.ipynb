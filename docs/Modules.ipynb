{
 "cells": [
  {
   "cell_type": "markdown",
   "metadata": {},
   "source": [
    "# Modules and packages\n",
    "\n",
    "One feature of Python that makes it useful for a wide range of tasks is the fact that it comes \"batteries included\" – that is, the Python standard library contains useful tools for a wide range of tasks. On top of this, there is a broad ecosystem of third-party tools and packages that offer more specialized functionality. Here we'll take a look at importing standard library modules, tools for installing third-party modules, and a description of how you can make your own modules.\n",
    "For loading built-in and third-party modules, Python provides the import statement. There are a few ways to use the statement, which we will briefly mention in this chapter, from most recommended to least recommended."
   ]
  },
  {
   "cell_type": "markdown",
   "metadata": {},
   "source": [
    "## Explicit module import\n",
    "\n",
    "Explicit import of a module preserves the module's content in a namespace. The namespace is then used to refer to its contents with a \".\" between them. For example, here we'll import the built-in math module and compute the cosine of pi:\n",
    "\n",
    "```python\n",
    "import math\n",
    "math.cos(math.pi)\n",
    "```\n",
    "\n",
    "### Explicit module import by alias\n",
    "\n",
    "For longer module names, it's not convenient to use the full module name each time you access some element. For this reason, we'll commonly use the `\"import ... as ...\"` pattern to create a shorter alias for the namespace. For example, the NumPy (Numerical Python) package, a popular third-party package useful for data science, is by convention imported under the alias np:\n",
    "\n",
    "```python\n",
    "import numpy as np\n",
    "np.cos(np.pi)\n",
    "```\n",
    "\n",
    "### Explicit import of module contents\n",
    "\n",
    "Sometimes rather than importing the module namespace, you would just like to import a few particular items from the module. This can be done with the `\"from ... import ...\"` pattern. For example, we can import just the cos function and the pi constant from the math module:\n",
    "\n",
    "```python\n",
    "from math import cos, pi\n",
    "cos(pi)\n",
    "```\n",
    "\n",
    "### Implicit import\n",
    "\n",
    "Finally, it is sometimes useful to import the entirety of the module contents into the local namespace. This can be done with the `\"from ... import *\"` pattern:\n",
    "\n",
    "```Python\n",
    "from math import *\n",
    "sin(pi) ** 2 + cos(pi) ** 2\n",
    "```\n",
    "\n",
    "This pattern should be used sparingly, if at all. The problem is that such imports can sometimes overwrite function names that you do not intend to overwrite, and the implicitness of the statement makes it difficult to determine what has changed.\n"
   ]
  },
  {
   "cell_type": "markdown",
   "metadata": {},
   "source": [
    "## Important libraries\n",
    "\n",
    "Python's standard library contains many useful built-in modules, which you can read about fully in Python's documentation. Any of these can be imported with the import statement, and then explored using the help function seen on the previous page. Here is an extremely incomplete list of some of the modules you might wish to explore and learn about:\n",
    "\n",
    "- os and sys: Tools for interfacing with the operating system, including navigating file directory structures and executing shell commands\n",
    "- math and cmath: Mathematical functions and operations on real and complex numbers\n",
    "- itertools: Tools for constructing and interacting with iterators and generators\n",
    "- functools: Tools that assist with functional programming\n",
    "- random: Tools for generating pseudorandom numbers\n",
    "- pickle: Tools for object persistence: saving objects to and loading objects from disk\n",
    "- json and csv: Tools for reading JSON-formatted and CSV-formatted files.\n",
    "- urllib: Tools for doing HTTP and other web requests.\n",
    "You can find information on these, and many more, in the Python standard library documentation: https://docs.python.org/3/library/."
   ]
  },
  {
   "cell_type": "markdown",
   "metadata": {},
   "source": [
    "## Scientific computing\n",
    "\n",
    "If you would like to spring from here and go farther in using Python for scientific computing or data science, there are a few packages that will make your life much easier.\n",
    "This chapter will introduce and preview several of the more important ones, and give you an idea of the types of applications they are designed for.\n",
    "Arguably, the core Python packages for computational science are NumPy, SciPy, Pandas, Matplotlib and Scikit-learn. Let's take a brief look at each of these in turn."
   ]
  },
  {
   "cell_type": "markdown",
   "metadata": {},
   "source": [
    "### NumPy\n",
    "\n",
    "NumPy (numerical Python) provides an efficient way to store and manipulate multi-dimensional dense arrays in Python. The important features of NumPy are:\n",
    "\n",
    "- It provides an ndarray structure, which allows efficient storage and manipulation of vectors, matrices, and higher-dimensional datasets.\n",
    "- It provides a readable and efficient syntax for operating on this data, from simple element-wise arithmetic to more complicated linear algebraic operations.\n",
    "\n",
    "In the simplest case, NumPy arrays look a lot like Python lists. For example, here is an array containing the range of numbers 1 to 9 (compare this with Python's built-in range()):\n"
   ]
  },
  {
   "cell_type": "code",
   "execution_count": 5,
   "metadata": {},
   "outputs": [
    {
     "data": {
      "text/plain": [
       "array([1, 2, 3, 4, 5, 6, 7, 8, 9])"
      ]
     },
     "execution_count": 5,
     "metadata": {},
     "output_type": "execute_result"
    }
   ],
   "source": [
    "import numpy as np\n",
    "x = np.arange(1, 10)\n",
    "x"
   ]
  },
  {
   "cell_type": "markdown",
   "metadata": {},
   "source": [
    "NumPy's arrays offer both efficient storage of data, as well as efficient element-wise operations on the data. For example, to square each element of the array, we can apply the \"**\" operator to the array directly:"
   ]
  },
  {
   "cell_type": "code",
   "execution_count": 2,
   "metadata": {},
   "outputs": [
    {
     "data": {
      "text/plain": [
       "array([ 1,  4,  9, 16, 25, 36, 49, 64, 81])"
      ]
     },
     "execution_count": 2,
     "metadata": {},
     "output_type": "execute_result"
    }
   ],
   "source": [
    "x = np.arange(1, 10)\n",
    "x ** 2"
   ]
  },
  {
   "cell_type": "markdown",
   "metadata": {},
   "source": [
    "Compare this with the much more verbose Python-style list comprehension for the same result:"
   ]
  },
  {
   "cell_type": "code",
   "execution_count": 1,
   "metadata": {},
   "outputs": [
    {
     "data": {
      "text/plain": [
       "[1, 4, 9, 16, 25, 36, 49, 64, 81]"
      ]
     },
     "execution_count": 1,
     "metadata": {},
     "output_type": "execute_result"
    }
   ],
   "source": [
    "x = range(1, 10)\n",
    "[val ** 2 for val in x]"
   ]
  },
  {
   "cell_type": "markdown",
   "metadata": {},
   "source": [
    "Unlike Python lists (which are limited to one dimension), NumPy arrays can be multi-dimensional. "
   ]
  }
 ],
 "metadata": {
  "kernelspec": {
   "display_name": "Python 3",
   "language": "python",
   "name": "python3"
  },
  "language_info": {
   "codemirror_mode": {
    "name": "ipython",
    "version": 3
   },
   "file_extension": ".py",
   "mimetype": "text/x-python",
   "name": "python",
   "nbconvert_exporter": "python",
   "pygments_lexer": "ipython3",
   "version": "3.6.6+"
  }
 },
 "nbformat": 4,
 "nbformat_minor": 2
}
