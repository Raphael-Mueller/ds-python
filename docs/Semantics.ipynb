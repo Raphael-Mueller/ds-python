{
 "cells": [
  {
   "cell_type": "markdown",
   "metadata": {},
   "source": [
    "# Semantics\n",
    "\n",
    "This chapter will begin to cover the basic semantics of the Python language. As opposed to the syntax covered in the previous chapter, the semantics of a language involve the meaning of the statements. As with our discussion of syntax, here we'll preview a few of the essential semantic constructions in Python to give you a better frame of reference for understanding the code in the following chapters.\n",
    "\n",
    "This chapter will cover the semantics of variables and objects, which are the main ways you store, reference, and operate on data within a Python script."
   ]
  },
  {
   "cell_type": "markdown",
   "metadata": {},
   "source": [
    "Assigning variables in Python is as easy as putting a variable name to the left of the equals (=) sign:"
   ]
  },
  {
   "cell_type": "code",
   "execution_count": null,
   "metadata": {},
   "outputs": [],
   "source": [
    "# assign 4 to the variable x\n",
    "x = 4"
   ]
  },
  {
   "cell_type": "markdown",
   "metadata": {},
   "source": [
    "This may seem straightforward, but if you have the wrong mental model of what this operation does, the way Python works may seem confusing. We'll briefly dig into that here.\n",
    "\n",
    "In many programming languages, variables are best thought of as containers or buckets into which you put data. So in C, for example, when you write\n",
    "\n",
    "```python\n",
    "// C code\n",
    "int x = 4;\n",
    "```\n",
    "\n",
    "you are essentially defining a \"memory bucket\" named x, and putting the value 4 into it. In Python, by contrast, variables are best thought of not as containers but as pointers. So in Python, when you write\n",
    "\n",
    "```Python\n",
    "x = 4\n",
    "```\n",
    "\n",
    "you are essentially defining a pointer named x that points to some other bucket containing the value 4. Note one consequence of this: \n",
    "\n",
    "because Python variables just point to various objects, there is no need to \"declare\" the variable, or even require the variable to always point to information of the same type! \n",
    "\n",
    "This is the sense in which people say Python is **dynamically-typed**: variable names can point to objects of any type. So in Python, you can do things like this:"
   ]
  },
  {
   "cell_type": "code",
   "execution_count": 1,
   "metadata": {},
   "outputs": [
    {
     "name": "stdout",
     "output_type": "stream",
     "text": [
      "x as an integer:  1\n",
      "x as a string:  hello\n",
      "x as a list:  [1, 2, 3]\n"
     ]
    }
   ],
   "source": [
    "x = 1         # x is an integer\n",
    "print('x as an integer: ', x)\n",
    "x = 'hello'   # now x is a string\n",
    "print('x as a string: ', x)\n",
    "x = [1, 2, 3] # now x is a list\n",
    "print('x as a list: ', x)"
   ]
  },
  {
   "cell_type": "markdown",
   "metadata": {},
   "source": [
    "\n",
    "While users of **statically-typed** languages might miss the type-safety that comes with declarations like those found in C,\n",
    "\n",
    "int x = 4;\n",
    "\n",
    "this dynamic typing is one of the pieces that makes Python so quick to write and easy to read."
   ]
  },
  {
   "cell_type": "markdown",
   "metadata": {},
   "source": [
    "## Variables as pointers"
   ]
  },
  {
   "cell_type": "markdown",
   "metadata": {},
   "source": [
    "There is a consequence of this \"variable as pointer\" approach that you need to be aware of. If we have two variable names pointing to the same mutable object, then changing one will change the other as well! For example, let's create and modify a list:"
   ]
  },
  {
   "cell_type": "code",
   "execution_count": 2,
   "metadata": {},
   "outputs": [],
   "source": [
    "x = [1, 2, 3]\n",
    "y = x"
   ]
  },
  {
   "cell_type": "markdown",
   "metadata": {},
   "source": [
    "We've created two variables x and y which both point to the same object. Because of this, if we modify the list via one of its names, we'll see that the \"other\" list will be modified as well:"
   ]
  },
  {
   "cell_type": "code",
   "execution_count": 3,
   "metadata": {},
   "outputs": [
    {
     "name": "stdout",
     "output_type": "stream",
     "text": [
      "y =  [1, 2, 3]\n",
      "y =  [1, 2, 3, 4]\n"
     ]
    }
   ],
   "source": [
    "print('y = ', y)\n",
    "x.append(4) # append 4 to the list pointed to by x\n",
    "print('y = ', y) # y's list is modified as well!"
   ]
  },
  {
   "cell_type": "markdown",
   "metadata": {},
   "source": [
    "This behavior might seem confusing if you're wrongly thinking of variables as buckets that contain data. But if you're correctly thinking of variables as pointers to objects, then this behavior makes sense.\n",
    "\n",
    "Note also that if we use \"=\" to assign another value to x, this will not affect the value of y – assignment is simply a change of what object the variable points to:"
   ]
  },
  {
   "cell_type": "code",
   "execution_count": 4,
   "metadata": {},
   "outputs": [
    {
     "name": "stdout",
     "output_type": "stream",
     "text": [
      "[1, 2, 3, 4]\n"
     ]
    }
   ],
   "source": [
    "x = 'something else'\n",
    "print(y)  # y is unchanged"
   ]
  },
  {
   "cell_type": "markdown",
   "metadata": {},
   "source": [
    "Again, this makes perfect sense if you think of x and y as pointers, and the \"=\" operator as an operation that changes what the name points to."
   ]
  },
  {
   "cell_type": "markdown",
   "metadata": {},
   "source": [
    "## Variables of simple types\n",
    "\n",
    "You might wonder whether this pointer idea makes arithmetic operations in Python difficult to track, but Python is set up so that this is not an issue. \n",
    "\n",
    "Numbers, strings, and other simple types are immutable: you can't change their value – you can only change what values the variables point to. \n",
    "\n",
    "So, for example, it's perfectly safe to do operations like the following:"
   ]
  },
  {
   "cell_type": "code",
   "execution_count": 5,
   "metadata": {},
   "outputs": [
    {
     "name": "stdout",
     "output_type": "stream",
     "text": [
      "x = 15\n",
      "y = 10\n"
     ]
    }
   ],
   "source": [
    "x = 10\n",
    "y = x\n",
    "x += 5  # add 5 to x's value, and assign it to x\n",
    "print(\"x =\", x)\n",
    "print(\"y =\", y)"
   ]
  },
  {
   "cell_type": "markdown",
   "metadata": {},
   "source": [
    "When we call x += 5, we are not modifying the value of the 10 object pointed to by x; we are rather changing the variable x so that it points to a new integer object with value 15. For this reason, the value of y is not affected by the operation."
   ]
  },
  {
   "cell_type": "markdown",
   "metadata": {},
   "source": [
    "## Python types\n",
    "\n",
    "Python is an object-oriented programming language, and in Python everything is an object.\n",
    "\n",
    "Let's flesh-out what this means. Earlier we saw that variables are simply pointers, and the variable names themselves have no attached type information. This leads some to claim erroneously that Python is a type-free language. But this is not the case! Consider the following:"
   ]
  },
  {
   "cell_type": "code",
   "execution_count": 1,
   "metadata": {},
   "outputs": [
    {
     "name": "stdout",
     "output_type": "stream",
     "text": [
      "x = 4, type is int\n",
      "x = hello, type is str\n",
      "x = 3.14159, type is float\n"
     ]
    }
   ],
   "source": [
    "x = 4\n",
    "print(f'x = {x}, type is {type(x).__name__}')\n",
    "x = 'hello'\n",
    "print(f'x = {x}, type is {type(x).__name__}')\n",
    "x = 3.14159\n",
    "print(f'x = {x}, type is {type(x).__name__}')"
   ]
  },
  {
   "cell_type": "markdown",
   "metadata": {},
   "source": [
    "Python has types; however, the types are linked not to the variable names but to the objects themselves."
   ]
  },
  {
   "cell_type": "markdown",
   "metadata": {},
   "source": [
    "## Attributes and methods\n",
    "\n",
    "In object-oriented programming languages like Python, an object is an entity that contains data along with associated metadata and/or functionality. In Python everything is an object, which means every entity has some metadata (called **attributes**) and associated functionality (called **methods**). Methods are like attributes, except they are functions that you can call using opening and closing parentheses.\n",
    "\n",
    "These attributes and methods are accessed via the dot syntax. For example, before we saw that lists have an append method, which adds an item to the list, and is accessed via the dot (\".\") syntax:\n"
   ]
  },
  {
   "cell_type": "code",
   "execution_count": 2,
   "metadata": {},
   "outputs": [
    {
     "name": "stdout",
     "output_type": "stream",
     "text": [
      "[1, 2, 3, 100]\n"
     ]
    }
   ],
   "source": [
    "L = [1, 2, 3]\n",
    "L.append(100)\n",
    "print(L)"
   ]
  },
  {
   "cell_type": "markdown",
   "metadata": {},
   "source": [
    "## Artihmetic operations\n",
    "\n",
    "In the previous chapter, we began to look at the semantics of Python variables and objects; here we'll dig into the semantics of the various operators included in the language. By the end of this chapter, you'll have the basic tools to begin comparing and operating on data in Python. \n",
    "\n",
    "Let's start with arithmetic operations. Python implements seven basic binary arithmetic operators, two of which can double as unary operators. They are summarized in the following table:\n",
    "\n"
   ]
  },
  {
   "cell_type": "markdown",
   "metadata": {},
   "source": [
    "Operator | Name | Description\n",
    "---|---|---\n",
    "a + b |\tAddition |\tSum of a and b\n",
    "a - b |\tSubtraction |\tDifference of a and b\n",
    "a * b |\tMultiplication |\tProduct of a and b\n",
    "a / b |\tTrue division |\tQuotient of a and b\n",
    "a // b |\tFloor division |\tQuotient of a and b, removing fractional parts \n",
    "a % b |\tModulus |\tInteger remainder after division of a by b\n",
    "a ** b |\tExponentiation |\ta raised to the power of b\n",
    "-a |\tNegation |\tThe negative of a\n",
    "+a |\tUnary plus |\ta unchanged (rarely used)"
   ]
  },
  {
   "cell_type": "markdown",
   "metadata": {},
   "source": [
    "These operators can be used and combined in intuitive ways, using standard parentheses to group operations. For example:"
   ]
  },
  {
   "cell_type": "code",
   "execution_count": 3,
   "metadata": {},
   "outputs": [
    {
     "data": {
      "text/plain": [
       "42.0"
      ]
     },
     "execution_count": 3,
     "metadata": {},
     "output_type": "execute_result"
    }
   ],
   "source": [
    "# addition, subtraction, multiplication\n",
    "(4 + 8) * (6.5 - 3)"
   ]
  },
  {
   "cell_type": "markdown",
   "metadata": {},
   "source": [
    "Floor division is true division with fractional parts truncated:"
   ]
  },
  {
   "cell_type": "code",
   "execution_count": null,
   "metadata": {},
   "outputs": [],
   "source": [
    "print('True division: ', 11 / 2)\n",
    "print('Floor division: ', 11 // 2)"
   ]
  },
  {
   "cell_type": "markdown",
   "metadata": {},
   "source": [
    "## Bitwise operations\n",
    "\n",
    "In addition to the standard numerical operations, Python includes operators to perform bitwise logical operations on integers. These are much less commonly used than the standard arithmetic operations, but it's useful to know that they exist. The six bitwise operators are summarized in the following table:\n",
    "\n",
    "Operator |\tName |\tDescription\n",
    "---|---|---\n",
    "a & b |\tBitwise AND |\tBits defined in both a and b\n",
    "a \\| b |\tBitwise OR |\tBits defined in a or b or both\n",
    "a ^ b |\tBitwise XOR |\tBits defined in a or b but not both\n",
    "a << b |\tBit shift left |\tShift bits of a left by b units\n",
    "a >> b |\tBit shift right |\tShift bits of a right by b units\n",
    "~a |\tBitwise NOT |\tBitwise negation of a\n",
    "\n",
    "These bitwise operators only make sense in terms of the binary representation of numbers, which you can see using the built-in bin function:"
   ]
  },
  {
   "cell_type": "markdown",
   "metadata": {},
   "source": [
    "## Comparison operations\n",
    "\n",
    "Another type of operation which can be very useful is comparison of different values. For this, Python implements standard comparison operators, which return Boolean values True and False. The comparison operations are listed in the following table:\n",
    "\n",
    "\n",
    "Operation |\tDescription |\t\tOperation |\tDescription\n",
    "---|---|---|---\n",
    "a == b |\ta equal to b |\t\ta != b\t| a not equal to b\n",
    "a < b |\ta less than b\t|\ta > b |\ta greater than b\n",
    "a <= b |\ta less than or equal to b\t|\ta >= b\t |a greater than or equal to b\n",
    "\n",
    "These comparison operators can be combined with the arithmetic and bitwise operators to express a virtually limitless range of tests for the numbers. For example, we can check if a number is odd by checking that the modulus with 2 returns 1:"
   ]
  },
  {
   "cell_type": "code",
   "execution_count": 4,
   "metadata": {},
   "outputs": [
    {
     "name": "stdout",
     "output_type": "stream",
     "text": [
      "Is 25 odd?  True\n",
      "Is 66 odd?  False\n"
     ]
    }
   ],
   "source": [
    "print('Is 25 odd? ', 25 % 2 == 1)\n",
    "print('Is 66 odd? ', 66 % 2 == 1)"
   ]
  },
  {
   "cell_type": "markdown",
   "metadata": {},
   "source": [
    "We can string-together multiple comparisons to check more complicated relationships:"
   ]
  },
  {
   "cell_type": "code",
   "execution_count": 5,
   "metadata": {},
   "outputs": [
    {
     "data": {
      "text/plain": [
       "True"
      ]
     },
     "execution_count": 5,
     "metadata": {},
     "output_type": "execute_result"
    }
   ],
   "source": [
    "# check if a is between 15 and 30\n",
    "a = 25\n",
    "15 < a < 30"
   ]
  },
  {
   "cell_type": "markdown",
   "metadata": {},
   "source": [
    "## Simple value types\n",
    "\n",
    "When discussing Python variables and objects, we mentioned the fact that all Python objects have type information attached. Here we'll briefly walk through the built-in simple types offered by Python. We say \"simple types\" to contrast with several compound types, which will be discussed in the following chapter.\n",
    "Python's simple types are summarized in the following table:\n",
    "\n",
    "\n",
    "Python Scalar Types\n",
    "\n",
    "Type |\tExample |\tDescription\n",
    "int |\tx = 1 |\tintegers (i.e., whole numbers)\n",
    "float |\tx = 1.0 |\tfloating-point numbers (i.e., real numbers)\n",
    "bool |\tx = True |\tBoolean: True/False values\n",
    "str |\tx = 'abc' |\tString: characters or text\n",
    "NoneType |\tx = None |\tSpecial object indicating nulls\n",
    "\n",
    "We'll take a quick look at each of these in turn.\n",
    "\n"
   ]
  },
  {
   "cell_type": "markdown",
   "metadata": {},
   "source": [
    "## Compound types\n",
    "\n",
    "Python has several built-in compound types, which act as containers for other types. These compound types are:\n",
    "\n",
    "Type |  Name |\tExample |\tDescription\n",
    "--- | --- | --- | --- \n",
    "list |\t[1, 2, 3] |\tOrdered collection\n",
    "tuple |\t(1, 2, 3) |\tImmutable ordered collection\n",
    "dict |\t{'a':1, 'b':2, 'c':3} |\tUnordered (key,value) mapping\n",
    "set |\t{1, 2, 3} |\tUnordered collection of unique values\n",
    "\n",
    "As you can see, round, square, and curly brackets have distinct meanings when it comes to the type of collection produced. We'll take a quick tour of these data structures in this chapter."
   ]
  },
  {
   "cell_type": "markdown",
   "metadata": {},
   "source": [
    "## Control flow\n",
    "\n",
    "With control flow, you can execute certain code blocks conditionally and/or repeatedly: these basic building blocks can be combined to create surprisingly sophisticated programs!\n",
    "In this chapter we will cover conditional statements (including \"if\", \"elif\", and \"else\"), loop statements (including \"for\" and \"while\" and the accompanying \"break\", \"continue\", and \"pass\")."
   ]
  },
  {
   "cell_type": "markdown",
   "metadata": {},
   "source": [
    "## Conditional statements: if-elif-else\n",
    "\n",
    "Conditional if-elif-else statements, often referred to as if-then statements, allow the programmer to execute certain pieces of code depending on some Boolean condition. A basic example of a Python conditional statement is this:"
   ]
  },
  {
   "cell_type": "code",
   "execution_count": 6,
   "metadata": {},
   "outputs": [
    {
     "name": "stdout",
     "output_type": "stream",
     "text": [
      "-15 is negative\n"
     ]
    }
   ],
   "source": [
    "x = -15\n",
    "\n",
    "if x == 0:\n",
    "    print(x, \"is zero\")\n",
    "elif x > 0:\n",
    "    print(x, \"is positive\")\n",
    "elif x < 0:\n",
    "    print(x, \"is negative\")\n",
    "else:\n",
    "    print(x, \"is unlike anything I've ever seen...\")"
   ]
  },
  {
   "cell_type": "markdown",
   "metadata": {},
   "source": [
    "Note especially the use of colons (:) and whitespace to denote separate blocks of code.\n",
    "\n",
    "Python adopts the if and else often used in other languages; its more unique keyword is elif, a contraction of \"else if\". In these conditional clauses, elif and else blocks are optional; additionally, you can optionally include as few or as many elif statements as you would like."
   ]
  },
  {
   "cell_type": "markdown",
   "metadata": {},
   "source": [
    "## For loops\n",
    "\n",
    "Loops in Python are a way to repeatedly execute some code statement. So, for example, if we'd like to print each of the items in a list, we can use a for loop:"
   ]
  },
  {
   "cell_type": "code",
   "execution_count": 7,
   "metadata": {},
   "outputs": [
    {
     "name": "stdout",
     "output_type": "stream",
     "text": [
      "2 3 5 7 "
     ]
    }
   ],
   "source": [
    "for N in [2, 3, 5, 7]:\n",
    "    print(N, end=' ') # print all on same line"
   ]
  },
  {
   "cell_type": "markdown",
   "metadata": {},
   "source": [
    "Notice the simplicity of the for loop: we specify the variable we want to use, the sequence we want to loop over, and use the \"in\" operator to link them together in an intuitive and readable way. \n",
    "\n",
    "More precisely, the object to the right of the \"in\" can be any Python iterator. An iterator can be thought of as a generalized sequence, and we'll discuss them in Iterators chapter."
   ]
  },
  {
   "cell_type": "markdown",
   "metadata": {},
   "source": [
    "### Range iterator\n",
    "\n",
    "To give you a quick example of an iterator, one of the most commonly-used iterators in Python is the range object, which generates a sequence of numbers:"
   ]
  },
  {
   "cell_type": "code",
   "execution_count": 8,
   "metadata": {},
   "outputs": [
    {
     "name": "stdout",
     "output_type": "stream",
     "text": [
      "0 1 2 3 4 5 6 7 8 9 "
     ]
    }
   ],
   "source": [
    "for i in range(10):\n",
    "    print(i, end=' ')"
   ]
  },
  {
   "cell_type": "markdown",
   "metadata": {},
   "source": [
    "Note that the range starts at zero by default, and that by convention the top of the range is not included in the output. Range objects can also have more complicated values:"
   ]
  },
  {
   "cell_type": "code",
   "execution_count": 9,
   "metadata": {},
   "outputs": [
    {
     "name": "stdout",
     "output_type": "stream",
     "text": [
      "Range from 5 to 10:  [5, 6, 7, 8, 9]\n",
      "Range from 0 to 10 by 2:  [0, 2, 4, 6, 8]\n"
     ]
    }
   ],
   "source": [
    "print('Range from 5 to 10: ', list(range(5, 10)))\n",
    "print('Range from 0 to 10 by 2: ', list(range(0, 10, 2)))"
   ]
  },
  {
   "cell_type": "code",
   "execution_count": null,
   "metadata": {},
   "outputs": [],
   "source": [
    "## While loop\n",
    "\n",
    "The other type of loop in Python is a while loop, which iterates until some condition is met:\n",
    "    \n",
    "    "
   ]
  },
  {
   "cell_type": "code",
   "execution_count": 10,
   "metadata": {},
   "outputs": [
    {
     "name": "stdout",
     "output_type": "stream",
     "text": [
      "0 1 2 3 4 5 6 7 8 9 "
     ]
    }
   ],
   "source": [
    "i = 0\n",
    "while i < 10:\n",
    "    print(i, end=' ')\n",
    "    i += 1"
   ]
  },
  {
   "cell_type": "markdown",
   "metadata": {},
   "source": [
    "The argument of the while loop is evaluated as a boolean statement, and the loop is executed until the statement evaluates to False."
   ]
  },
  {
   "cell_type": "markdown",
   "metadata": {},
   "source": [
    "## Continue\n",
    "\n",
    "There are two useful statements that can be used within loops to fine-tune how they are executed:\n",
    "\n",
    "- The break statement breaks-out of the loop entirely\n",
    "- The continue statement skips the remainder of the current loop, and goes to the next iteration\n",
    "\n",
    "These can be used in both for and while loops.\n",
    "Here is an example of using continue to print a string of odd numbers. In this case, the result could be accomplished just as well with an if-else statement, but sometimes the continue statement can be a more convenient way to express the idea you have in mind:\n"
   ]
  },
  {
   "cell_type": "code",
   "execution_count": 11,
   "metadata": {},
   "outputs": [
    {
     "name": "stdout",
     "output_type": "stream",
     "text": [
      "1 3 5 7 9 11 13 15 17 19 "
     ]
    }
   ],
   "source": [
    "for n in range(20):\n",
    "    # if the remainder of n / 2 is 0, skip the rest of the loop\n",
    "    if n % 2 == 0:\n",
    "        continue\n",
    "    print(n, end=' ')"
   ]
  },
  {
   "cell_type": "markdown",
   "metadata": {},
   "source": [
    "## Break\n",
    "\n",
    "The break statement breaks-out of the loop entirely. Here is an example of a break statement used for a less trivial task. This loop will fill a list with all Fibonacci numbers up to a certain value:"
   ]
  },
  {
   "cell_type": "code",
   "execution_count": 12,
   "metadata": {},
   "outputs": [
    {
     "name": "stdout",
     "output_type": "stream",
     "text": [
      "[1, 1, 2, 3, 5, 8, 13, 21, 34, 55, 89]\n"
     ]
    }
   ],
   "source": [
    "a, b = 0, 1\n",
    "amax = 100\n",
    "L = []\n",
    "\n",
    "while True:\n",
    "    (a, b) = (b, a + b)\n",
    "    if a > amax:\n",
    "        break\n",
    "    L.append(a)\n",
    "\n",
    "print(L)"
   ]
  },
  {
   "cell_type": "markdown",
   "metadata": {},
   "source": [
    "Notice that we use a while True loop, which will loop forever unless we have a break statement!"
   ]
  },
  {
   "cell_type": "markdown",
   "metadata": {},
   "source": [
    "## Functions\n",
    "\n",
    "So far, our scripts have been simple, single-use code blocks. One way to organize our Python code and to make it more readable and reusable is to factor-out useful pieces into reusable functions. \n",
    "\n",
    "In this chapter we will cover two ways of creating functions: the def statement, useful for any type of function, and the lambda statement, useful for creating short anonymous functions.\n",
    "\n",
    "Functions are groups of code that have a name, and can be called using parentheses. We've seen functions before. For example, print in Python 3 is a function\n"
   ]
  },
  {
   "cell_type": "code",
   "execution_count": null,
   "metadata": {},
   "outputs": [],
   "source": [
    "print('abc')"
   ]
  },
  {
   "cell_type": "markdown",
   "metadata": {},
   "source": [
    "Here print is the function name, and 'abc' is the function's argument.\n",
    "\n",
    "In addition to arguments, there are keyword arguments that are specified by name. One available keyword argument for the print() function (in Python 3) is sep, which tells what character or characters should be used to separate multiple items:"
   ]
  },
  {
   "cell_type": "code",
   "execution_count": 13,
   "metadata": {},
   "outputs": [
    {
     "name": "stdout",
     "output_type": "stream",
     "text": [
      "1--2--3\n"
     ]
    }
   ],
   "source": [
    "print(1, 2, 3, sep='--')"
   ]
  },
  {
   "cell_type": "markdown",
   "metadata": {},
   "source": [
    "When non-keyword arguments are used together with keyword arguments, the keyword arguments must come at the end."
   ]
  },
  {
   "cell_type": "markdown",
   "metadata": {},
   "source": [
    "### Defining functions\n",
    "\n",
    "Functions become even more useful when we begin to define our own, organizing functionality to be used in multiple places. In Python, functions are defined with the def statement. For example, we can encapsulate a version of our Fibonacci sequence code from the previous chapter as follows:"
   ]
  },
  {
   "cell_type": "code",
   "execution_count": 15,
   "metadata": {},
   "outputs": [],
   "source": [
    "def fibonacci(N):\n",
    "    L = []\n",
    "    a, b = 0, 1\n",
    "    while len(L) < N:\n",
    "        a, b = b, a + b\n",
    "        L.append(a)\n",
    "    return L"
   ]
  },
  {
   "cell_type": "markdown",
   "metadata": {},
   "source": [
    "Now we have a function named fibonacci which takes a single argument N, does something with this argument, and returns a value; in this case, a list of the first N Fibonacci numbers:"
   ]
  },
  {
   "cell_type": "code",
   "execution_count": 16,
   "metadata": {},
   "outputs": [
    {
     "data": {
      "text/plain": [
       "[1, 1, 2, 3, 5, 8, 13, 21, 34, 55]"
      ]
     },
     "execution_count": 16,
     "metadata": {},
     "output_type": "execute_result"
    }
   ],
   "source": [
    "fibonacci(10)"
   ]
  },
  {
   "cell_type": "markdown",
   "metadata": {},
   "source": [
    "## Default argument values\n",
    "\n",
    "Often when defining a function, there are certain values that we want the function to use most of the time, but we'd also like to give the user some flexibility. \n",
    "\n",
    "In this case, we can use default values for arguments. Consider the fibonacci function from before. What if we would like the user to be able to play with the starting values? We could do that as follows:"
   ]
  },
  {
   "cell_type": "code",
   "execution_count": null,
   "metadata": {},
   "outputs": [],
   "source": [
    "def fibonacci(N, a=0, b=1):\n",
    "    L = []\n",
    "    while len(L) < N:\n",
    "        a, b = b, a + b\n",
    "        L.append(a)\n",
    "    return L"
   ]
  },
  {
   "cell_type": "markdown",
   "metadata": {},
   "source": [
    "With a single argument, the result of the function call is identical to before:"
   ]
  },
  {
   "cell_type": "code",
   "execution_count": null,
   "metadata": {},
   "outputs": [],
   "source": [
    "fibonacci(10)"
   ]
  },
  {
   "cell_type": "markdown",
   "metadata": {},
   "source": [
    "But now we can use the function to explore new things, such as the effect of new starting values"
   ]
  },
  {
   "cell_type": "code",
   "execution_count": null,
   "metadata": {},
   "outputs": [],
   "source": [
    "fibonacci(10, 0, 2)"
   ]
  },
  {
   "cell_type": "markdown",
   "metadata": {},
   "source": [
    "The values can also be specified by name if desired, in which case the order of the named values does not matter:"
   ]
  },
  {
   "cell_type": "code",
   "execution_count": null,
   "metadata": {},
   "outputs": [],
   "source": [
    "fibonacci(10, b=3, a=1)"
   ]
  },
  {
   "cell_type": "markdown",
   "metadata": {},
   "source": [
    "## Flexible arguments\n",
    "\n",
    "Sometimes you might wish to write a function in which you don't initially know how many arguments the user will pass. In this case, you can use the special form \\*args and \\**kwargs to catch all arguments that are passed. Here is an example:\n"
   ]
  },
  {
   "cell_type": "code",
   "execution_count": null,
   "metadata": {},
   "outputs": [],
   "source": [
    "def catch_all(*args, **kwargs):\n",
    "    print(\"args =\", args)\n",
    "    print(\"kwargs = \", kwargs)"
   ]
  },
  {
   "cell_type": "code",
   "execution_count": null,
   "metadata": {},
   "outputs": [],
   "source": [
    "catch_all(1, 2, 3, a=4, b=5)"
   ]
  },
  {
   "cell_type": "code",
   "execution_count": null,
   "metadata": {},
   "outputs": [],
   "source": [
    "catch_all('a', keyword=2)"
   ]
  },
  {
   "cell_type": "markdown",
   "metadata": {},
   "source": [
    "## Asterisk\n",
    "\n",
    "In case of *args and **kwargs, it is not the names args and kwargs that are important, but the * characters preceding them. args and kwargs are just the variable names often used by convention, short for \"arguments\" and \"keyword arguments\". The operative difference is the asterisk characters: a single * before a variable means \"expand this as a sequence\", while a double ** before a variable means \"expand this as a dictionary\". In fact, this syntax can be used not only with the function definition, but with the function call as well!"
   ]
  }
 ],
 "metadata": {
  "kernelspec": {
   "display_name": "Python 3",
   "language": "python",
   "name": "python3"
  },
  "language_info": {
   "codemirror_mode": {
    "name": "ipython",
    "version": 3
   },
   "file_extension": ".py",
   "mimetype": "text/x-python",
   "name": "python",
   "nbconvert_exporter": "python",
   "pygments_lexer": "ipython3",
   "version": "3.6.6+"
  }
 },
 "nbformat": 4,
 "nbformat_minor": 2
}
